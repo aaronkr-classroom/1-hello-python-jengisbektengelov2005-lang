{
 "cells": [
  {
   "cell_type": "markdown",
   "id": "22e8b003",
   "metadata": {},
   "source": [
    "# Hello World \n",
    "\n",
    "## This is Jengisbek\n",
    "\n",
    "###### ML is fun!\n",
    "\n",
    "This is a paragraph."
   ]
  },
  {
   "cell_type": "markdown",
   "id": "d79664ee",
   "metadata": {},
   "source": [
    "Lorem Ipsum is simply dummy text of the printing and typesetting industry. *Lorem* Ipsum has been the industry's standard dummy text ever since the 1500s, when an unknown printer took a galley of type and scrambled it to make a type specimen book. It has survived not only five centuries, but also the leap into electronic typesetting, remaining essentially \n",
    "\n",
    "* unchanged. \n",
    "* It was \n",
    "* \n",
    "\n",
    "popularised in the 1960s with the release of Letraset sheets containing [Lorem] Ipsum passages, and more recently with desktop publishing software like \n",
    "\n",
    "1.Aldus \n",
    "1.PageMaker \n",
    "\n",
    "- including \n",
    "- versions of **Lorem** Ipsum"
   ]
  },
  {
   "cell_type": "markdown",
   "id": "6261d7b8",
   "metadata": {},
   "source": []
  }
 ],
 "metadata": {
  "language_info": {
   "name": "python"
  }
 },
 "nbformat": 4,
 "nbformat_minor": 5
}
